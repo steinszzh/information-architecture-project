{
 "cells": [
  {
   "cell_type": "code",
   "execution_count": 19,
   "metadata": {},
   "outputs": [],
   "source": [
    "#first import the necessary packages\n",
    "from alpha_vantage.timeseries import TimeSeries\n",
    "from alpha_vantage.sectorperformance import SectorPerformances\n",
    "import pandas as pd\n",
    "import numpy as np\n",
    "from datetime import datetime\n",
    "import csv\n",
    "import json"
   ]
  },
  {
   "cell_type": "code",
   "execution_count": 2,
   "metadata": {},
   "outputs": [],
   "source": [
    "# Your API key here\n",
    "key = 'NEDEYZC5RY09YBFE'\n",
    "ts = TimeSeries(key)\n"
   ]
  },
  {
   "cell_type": "code",
   "execution_count": 20,
   "metadata": {},
   "outputs": [
    {
     "name": "stdout",
     "output_type": "stream",
     "text": [
      "{'Rank A: Real-Time Performance': {'Energy': 0.0434, 'Industrials': 0.025, 'Materials': 0.024, 'Consumer Staples': 0.0227, 'Financials': 0.0219, 'Utilities': 0.020099999999999996, 'Real Estate': 0.0187, 'Consumer Discretionary': 0.0166, 'Communication Services': 0.015700000000000002, 'Information Technology': 0.013999999999999999, 'Health Care': 0.0054}, 'Rank B: 1 Day Performance': {'Energy': 0.0434, 'Industrials': 0.025, 'Materials': 0.024, 'Consumer Staples': 0.0227, 'Financials': 0.0219, 'Utilities': 0.020099999999999996, 'Real Estate': 0.0187, 'Consumer Discretionary': 0.0166, 'Communication Services': 0.015700000000000002, 'Information Technology': 0.013999999999999999, 'Health Care': 0.0054}, 'Rank C: 5 Day Performance': {'Energy': 0.0825, 'Information Technology': 0.0664, 'Consumer Discretionary': 0.0443, 'Communication Services': 0.0371, 'Materials': 0.034, 'Health Care': 0.0172, 'Real Estate': 0.0146, 'Industrials': 0.0132, 'Financials': 0.0104, 'Consumer Staples': 0.0087, 'Utilities': 0.0053}, 'Rank D: 1 Month Performance': {'Energy': 0.19870000000000002, 'Consumer Discretionary': 0.1592, 'Information Technology': 0.14150000000000001, 'Communication Services': 0.1276, 'Materials': 0.11900000000000001, 'Health Care': 0.0966, 'Real Estate': 0.059000000000000004, 'Industrials': 0.0492, 'Financials': 0.0454, 'Consumer Staples': 0.0194, 'Utilities': 0.0176}, 'Rank E: 3 Month Performance': {'Health Care': -0.0349, 'Information Technology': -0.04769999999999999, 'Consumer Discretionary': -0.0629, 'Communication Services': -0.0776, 'Consumer Staples': -0.0975, 'Materials': -0.1244, 'Real Estate': -0.1656, 'Utilities': -0.1805, 'Industrials': -0.244, 'Energy': -0.2785, 'Financials': -0.2788}, 'Rank F: Year-to-Date (YTD) Performance': {'Information Technology': 0.0337, 'Health Care': -0.0259, 'Consumer Discretionary': -0.0347, 'Communication Services': -0.0408, 'Consumer Staples': -0.0794, 'Utilities': -0.1317, 'Real Estate': -0.1396, 'Materials': -0.1439, 'Industrials': -0.22460000000000002, 'Financials': -0.2773, 'Energy': -0.3543}, 'Rank G: 1 Year Performance': {'Information Technology': 0.23989999999999997, 'Health Care': 0.1252, 'Communication Services': 0.056799999999999996, 'Consumer Staples': 0.0206, 'Consumer Discretionary': 0.0189, 'Utilities': -0.0264, 'Materials': -0.0384, 'Real Estate': -0.0603, 'Industrials': -0.16760000000000003, 'Financials': -0.187, 'Energy': -0.37450000000000006}, 'Rank H: 3 Year Performance': {'Information Technology': 0.7698999999999999, 'Consumer Discretionary': 0.327, 'Health Care': 0.3189, 'Communication Services': 0.09960000000000001, 'Utilities': 0.0867, 'Real Estate': 0.0555, 'Consumer Staples': 0.0504, 'Materials': -0.0154, 'Financials': -0.0654, 'Industrials': -0.0716, 'Energy': -0.40509999999999996}, 'Rank I: 5 Year Performance': {'Information Technology': 1.3561, 'Consumer Discretionary': 0.5844, 'Health Care': 0.3862, 'Utilities': 0.2846, 'Consumer Staples': 0.1911, 'Financials': 0.1253, 'Communication Services': 0.1176, 'Industrials': 0.1079, 'Materials': 0.0377, 'Energy': -0.4991}, 'Rank J: 10 Year Performance': {'Information Technology': 3.7004, 'Consumer Discretionary': 2.7567000000000004, 'Health Care': 2.3629, 'Consumer Staples': 1.1640000000000001, 'Industrials': 1.036, 'Utilities': 0.9336, 'Financials': 0.8193, 'Materials': 0.7573000000000001, 'Communication Services': 0.6968000000000001, 'Energy': -0.28809999999999997}}\n",
      "{'Information': 'US Sector Performance (realtime & historical)', 'Last Refreshed': '2020-05-10 12:54:26 US/Eastern'}\n"
     ]
    }
   ],
   "source": [
    "#run sector performance function to get sector data\n",
    "sp = SectorPerformances(key=key, output_format='json')\n",
    "data, meta_data = sp.get_sector()\n",
    "print(data)\n",
    "print(meta_data)"
   ]
  },
  {
   "cell_type": "code",
   "execution_count": 18,
   "metadata": {},
   "outputs": [
    {
     "name": "stdout",
     "output_type": "stream",
     "text": [
      "<alpha_vantage.sectorperformance.SectorPerformances object at 0x0000021082940160>\n"
     ]
    }
   ],
   "source": [
    "\n",
    "#ref https://pypi.org/project/alpha-vantage/1.0.0/"
   ]
  },
  {
   "cell_type": "code",
   "execution_count": 9,
   "metadata": {},
   "outputs": [
    {
     "data": {
      "text/plain": [
       "{'Rank A: Real-Time Performance': {'Energy': 0.0434,\n",
       "  'Industrials': 0.025,\n",
       "  'Materials': 0.024,\n",
       "  'Consumer Staples': 0.0227,\n",
       "  'Financials': 0.0219,\n",
       "  'Utilities': 0.020099999999999996,\n",
       "  'Real Estate': 0.0187,\n",
       "  'Consumer Discretionary': 0.0166,\n",
       "  'Communication Services': 0.015700000000000002,\n",
       "  'Information Technology': 0.013999999999999999,\n",
       "  'Health Care': 0.0054},\n",
       " 'Rank B: 1 Day Performance': {'Energy': 0.0434,\n",
       "  'Industrials': 0.025,\n",
       "  'Materials': 0.024,\n",
       "  'Consumer Staples': 0.0227,\n",
       "  'Financials': 0.0219,\n",
       "  'Utilities': 0.020099999999999996,\n",
       "  'Real Estate': 0.0187,\n",
       "  'Consumer Discretionary': 0.0166,\n",
       "  'Communication Services': 0.015700000000000002,\n",
       "  'Information Technology': 0.013999999999999999,\n",
       "  'Health Care': 0.0054},\n",
       " 'Rank C: 5 Day Performance': {'Energy': 0.0825,\n",
       "  'Information Technology': 0.0664,\n",
       "  'Consumer Discretionary': 0.0443,\n",
       "  'Communication Services': 0.0371,\n",
       "  'Materials': 0.034,\n",
       "  'Health Care': 0.0172,\n",
       "  'Real Estate': 0.0146,\n",
       "  'Industrials': 0.0132,\n",
       "  'Financials': 0.0104,\n",
       "  'Consumer Staples': 0.0087,\n",
       "  'Utilities': 0.0053},\n",
       " 'Rank D: 1 Month Performance': {'Energy': 0.19870000000000002,\n",
       "  'Consumer Discretionary': 0.1592,\n",
       "  'Information Technology': 0.14150000000000001,\n",
       "  'Communication Services': 0.1276,\n",
       "  'Materials': 0.11900000000000001,\n",
       "  'Health Care': 0.0966,\n",
       "  'Real Estate': 0.059000000000000004,\n",
       "  'Industrials': 0.0492,\n",
       "  'Financials': 0.0454,\n",
       "  'Consumer Staples': 0.0194,\n",
       "  'Utilities': 0.0176},\n",
       " 'Rank E: 3 Month Performance': {'Health Care': -0.0349,\n",
       "  'Information Technology': -0.04769999999999999,\n",
       "  'Consumer Discretionary': -0.0629,\n",
       "  'Communication Services': -0.0776,\n",
       "  'Consumer Staples': -0.0975,\n",
       "  'Materials': -0.1244,\n",
       "  'Real Estate': -0.1656,\n",
       "  'Utilities': -0.1805,\n",
       "  'Industrials': -0.244,\n",
       "  'Energy': -0.2785,\n",
       "  'Financials': -0.2788},\n",
       " 'Rank F: Year-to-Date (YTD) Performance': {'Information Technology': 0.0337,\n",
       "  'Health Care': -0.0259,\n",
       "  'Consumer Discretionary': -0.0347,\n",
       "  'Communication Services': -0.0408,\n",
       "  'Consumer Staples': -0.0794,\n",
       "  'Utilities': -0.1317,\n",
       "  'Real Estate': -0.1396,\n",
       "  'Materials': -0.1439,\n",
       "  'Industrials': -0.22460000000000002,\n",
       "  'Financials': -0.2773,\n",
       "  'Energy': -0.3543},\n",
       " 'Rank G: 1 Year Performance': {'Information Technology': 0.23989999999999997,\n",
       "  'Health Care': 0.1252,\n",
       "  'Communication Services': 0.056799999999999996,\n",
       "  'Consumer Staples': 0.0206,\n",
       "  'Consumer Discretionary': 0.0189,\n",
       "  'Utilities': -0.0264,\n",
       "  'Materials': -0.0384,\n",
       "  'Real Estate': -0.0603,\n",
       "  'Industrials': -0.16760000000000003,\n",
       "  'Financials': -0.187,\n",
       "  'Energy': -0.37450000000000006},\n",
       " 'Rank H: 3 Year Performance': {'Information Technology': 0.7698999999999999,\n",
       "  'Consumer Discretionary': 0.327,\n",
       "  'Health Care': 0.3189,\n",
       "  'Communication Services': 0.09960000000000001,\n",
       "  'Utilities': 0.0867,\n",
       "  'Real Estate': 0.0555,\n",
       "  'Consumer Staples': 0.0504,\n",
       "  'Materials': -0.0154,\n",
       "  'Financials': -0.0654,\n",
       "  'Industrials': -0.0716,\n",
       "  'Energy': -0.40509999999999996},\n",
       " 'Rank I: 5 Year Performance': {'Information Technology': 1.3561,\n",
       "  'Consumer Discretionary': 0.5844,\n",
       "  'Health Care': 0.3862,\n",
       "  'Utilities': 0.2846,\n",
       "  'Consumer Staples': 0.1911,\n",
       "  'Financials': 0.1253,\n",
       "  'Communication Services': 0.1176,\n",
       "  'Industrials': 0.1079,\n",
       "  'Materials': 0.0377,\n",
       "  'Energy': -0.4991},\n",
       " 'Rank J: 10 Year Performance': {'Information Technology': 3.7004,\n",
       "  'Consumer Discretionary': 2.7567000000000004,\n",
       "  'Health Care': 2.3629,\n",
       "  'Consumer Staples': 1.1640000000000001,\n",
       "  'Industrials': 1.036,\n",
       "  'Utilities': 0.9336,\n",
       "  'Financials': 0.8193,\n",
       "  'Materials': 0.7573000000000001,\n",
       "  'Communication Services': 0.6968000000000001,\n",
       "  'Energy': -0.28809999999999997}}"
      ]
     },
     "execution_count": 9,
     "metadata": {},
     "output_type": "execute_result"
    }
   ],
   "source": [
    "data"
   ]
  },
  {
   "cell_type": "code",
   "execution_count": 12,
   "metadata": {},
   "outputs": [
    {
     "ename": "ValueError",
     "evalue": "Invalid file path or buffer object type: <class 'dict'>",
     "output_type": "error",
     "traceback": [
      "\u001b[1;31m---------------------------------------------------------------------------\u001b[0m",
      "\u001b[1;31mValueError\u001b[0m                                Traceback (most recent call last)",
      "\u001b[1;32m<ipython-input-12-1aa943808697>\u001b[0m in \u001b[0;36m<module>\u001b[1;34m\u001b[0m\n\u001b[1;32m----> 1\u001b[1;33m \u001b[0mexport\u001b[0m\u001b[1;33m=\u001b[0m \u001b[0mpd\u001b[0m\u001b[1;33m.\u001b[0m\u001b[0mread_json\u001b[0m\u001b[1;33m(\u001b[0m\u001b[0mdata\u001b[0m\u001b[1;33m)\u001b[0m\u001b[1;33m\u001b[0m\u001b[1;33m\u001b[0m\u001b[0m\n\u001b[0m",
      "\u001b[1;32m~\\Anaconda3\\lib\\site-packages\\pandas\\util\\_decorators.py\u001b[0m in \u001b[0;36mwrapper\u001b[1;34m(*args, **kwargs)\u001b[0m\n\u001b[0;32m    212\u001b[0m                 \u001b[1;32melse\u001b[0m\u001b[1;33m:\u001b[0m\u001b[1;33m\u001b[0m\u001b[1;33m\u001b[0m\u001b[0m\n\u001b[0;32m    213\u001b[0m                     \u001b[0mkwargs\u001b[0m\u001b[1;33m[\u001b[0m\u001b[0mnew_arg_name\u001b[0m\u001b[1;33m]\u001b[0m \u001b[1;33m=\u001b[0m \u001b[0mnew_arg_value\u001b[0m\u001b[1;33m\u001b[0m\u001b[1;33m\u001b[0m\u001b[0m\n\u001b[1;32m--> 214\u001b[1;33m             \u001b[1;32mreturn\u001b[0m \u001b[0mfunc\u001b[0m\u001b[1;33m(\u001b[0m\u001b[1;33m*\u001b[0m\u001b[0margs\u001b[0m\u001b[1;33m,\u001b[0m \u001b[1;33m**\u001b[0m\u001b[0mkwargs\u001b[0m\u001b[1;33m)\u001b[0m\u001b[1;33m\u001b[0m\u001b[1;33m\u001b[0m\u001b[0m\n\u001b[0m\u001b[0;32m    215\u001b[0m \u001b[1;33m\u001b[0m\u001b[0m\n\u001b[0;32m    216\u001b[0m         \u001b[1;32mreturn\u001b[0m \u001b[0mcast\u001b[0m\u001b[1;33m(\u001b[0m\u001b[0mF\u001b[0m\u001b[1;33m,\u001b[0m \u001b[0mwrapper\u001b[0m\u001b[1;33m)\u001b[0m\u001b[1;33m\u001b[0m\u001b[1;33m\u001b[0m\u001b[0m\n",
      "\u001b[1;32m~\\Anaconda3\\lib\\site-packages\\pandas\\io\\json\\_json.py\u001b[0m in \u001b[0;36mread_json\u001b[1;34m(path_or_buf, orient, typ, dtype, convert_axes, convert_dates, keep_default_dates, numpy, precise_float, date_unit, encoding, lines, chunksize, compression)\u001b[0m\n\u001b[0;32m    583\u001b[0m     \u001b[0mcompression\u001b[0m \u001b[1;33m=\u001b[0m \u001b[0minfer_compression\u001b[0m\u001b[1;33m(\u001b[0m\u001b[0mpath_or_buf\u001b[0m\u001b[1;33m,\u001b[0m \u001b[0mcompression\u001b[0m\u001b[1;33m)\u001b[0m\u001b[1;33m\u001b[0m\u001b[1;33m\u001b[0m\u001b[0m\n\u001b[0;32m    584\u001b[0m     filepath_or_buffer, _, compression, should_close = get_filepath_or_buffer(\n\u001b[1;32m--> 585\u001b[1;33m         \u001b[0mpath_or_buf\u001b[0m\u001b[1;33m,\u001b[0m \u001b[0mencoding\u001b[0m\u001b[1;33m=\u001b[0m\u001b[0mencoding\u001b[0m\u001b[1;33m,\u001b[0m \u001b[0mcompression\u001b[0m\u001b[1;33m=\u001b[0m\u001b[0mcompression\u001b[0m\u001b[1;33m\u001b[0m\u001b[1;33m\u001b[0m\u001b[0m\n\u001b[0m\u001b[0;32m    586\u001b[0m     )\n\u001b[0;32m    587\u001b[0m \u001b[1;33m\u001b[0m\u001b[0m\n",
      "\u001b[1;32m~\\Anaconda3\\lib\\site-packages\\pandas\\io\\common.py\u001b[0m in \u001b[0;36mget_filepath_or_buffer\u001b[1;34m(filepath_or_buffer, encoding, compression, mode)\u001b[0m\n\u001b[0;32m    198\u001b[0m     \u001b[1;32mif\u001b[0m \u001b[1;32mnot\u001b[0m \u001b[0mis_file_like\u001b[0m\u001b[1;33m(\u001b[0m\u001b[0mfilepath_or_buffer\u001b[0m\u001b[1;33m)\u001b[0m\u001b[1;33m:\u001b[0m\u001b[1;33m\u001b[0m\u001b[1;33m\u001b[0m\u001b[0m\n\u001b[0;32m    199\u001b[0m         \u001b[0mmsg\u001b[0m \u001b[1;33m=\u001b[0m \u001b[1;34mf\"Invalid file path or buffer object type: {type(filepath_or_buffer)}\"\u001b[0m\u001b[1;33m\u001b[0m\u001b[1;33m\u001b[0m\u001b[0m\n\u001b[1;32m--> 200\u001b[1;33m         \u001b[1;32mraise\u001b[0m \u001b[0mValueError\u001b[0m\u001b[1;33m(\u001b[0m\u001b[0mmsg\u001b[0m\u001b[1;33m)\u001b[0m\u001b[1;33m\u001b[0m\u001b[1;33m\u001b[0m\u001b[0m\n\u001b[0m\u001b[0;32m    201\u001b[0m \u001b[1;33m\u001b[0m\u001b[0m\n\u001b[0;32m    202\u001b[0m     \u001b[1;32mreturn\u001b[0m \u001b[0mfilepath_or_buffer\u001b[0m\u001b[1;33m,\u001b[0m \u001b[1;32mNone\u001b[0m\u001b[1;33m,\u001b[0m \u001b[0mcompression\u001b[0m\u001b[1;33m,\u001b[0m \u001b[1;32mFalse\u001b[0m\u001b[1;33m\u001b[0m\u001b[1;33m\u001b[0m\u001b[0m\n",
      "\u001b[1;31mValueError\u001b[0m: Invalid file path or buffer object type: <class 'dict'>"
     ]
    }
   ],
   "source": [
    "export= pd.read_json(data)"
   ]
  },
  {
   "cell_type": "code",
   "execution_count": 4,
   "metadata": {},
   "outputs": [
    {
     "ename": "AttributeError",
     "evalue": "'SectorPerformances' object has no attribute 'to_json'",
     "output_type": "error",
     "traceback": [
      "\u001b[1;31m---------------------------------------------------------------------------\u001b[0m",
      "\u001b[1;31mAttributeError\u001b[0m                            Traceback (most recent call last)",
      "\u001b[1;32m<ipython-input-4-9e22d7bd8527>\u001b[0m in \u001b[0;36m<module>\u001b[1;34m\u001b[0m\n\u001b[1;32m----> 1\u001b[1;33m \u001b[0msp\u001b[0m\u001b[1;33m.\u001b[0m\u001b[0mto_json\u001b[0m\u001b[1;33m(\u001b[0m\u001b[1;34mr'Desktop\\File Name.json'\u001b[0m\u001b[1;33m)\u001b[0m\u001b[1;33m\u001b[0m\u001b[1;33m\u001b[0m\u001b[0m\n\u001b[0m",
      "\u001b[1;31mAttributeError\u001b[0m: 'SectorPerformances' object has no attribute 'to_json'"
     ]
    }
   ],
   "source": [
    "sp.to_json(r'Desktop\\File Name.json')"
   ]
  },
  {
   "cell_type": "code",
   "execution_count": 16,
   "metadata": {},
   "outputs": [],
   "source": [
    "#export as csv\n",
    "\n",
    "from alpha_vantage.timeseries import TimeSeries\n",
    "# Your key here\n",
    "key = 'NEDEYZC5RY09YBFE'\n",
    "ts = TimeSeries(key,  output_format='csv')\n",
    "\n",
    "# remember it returns a tuple, the first being a _csv.reader object\n",
    "aapl_csvreader, meta = ts.get_daily(symbol='AAPL')\n"
   ]
  },
  {
   "cell_type": "code",
   "execution_count": 17,
   "metadata": {},
   "outputs": [],
   "source": [
    "#worked case for gerring csv file time series. \n",
    "with open('aapl.csv', 'w') as write_csvfile:\n",
    "    writer = csv.writer(write_csvfile, dialect='excel')\n",
    "    for row in aapl_csvreader:\n",
    "        writer.writerow(row)"
   ]
  },
  {
   "cell_type": "code",
   "execution_count": 23,
   "metadata": {},
   "outputs": [
    {
     "ename": "ValueError",
     "evalue": "not enough values to unpack (expected 2, got 1)",
     "output_type": "error",
     "traceback": [
      "\u001b[1;31m---------------------------------------------------------------------------\u001b[0m",
      "\u001b[1;31mValueError\u001b[0m                                Traceback (most recent call last)",
      "\u001b[1;32m<ipython-input-23-2169931acaab>\u001b[0m in \u001b[0;36m<module>\u001b[1;34m\u001b[0m\n\u001b[0;32m     15\u001b[0m \u001b[0mresponse\u001b[0m \u001b[1;33m=\u001b[0m \u001b[0mrequests\u001b[0m\u001b[1;33m.\u001b[0m\u001b[0mget\u001b[0m\u001b[1;33m(\u001b[0m\u001b[0mbase_url\u001b[0m\u001b[1;33m,\u001b[0m \u001b[0mparams\u001b[0m\u001b[1;33m=\u001b[0m\u001b[0mparams\u001b[0m\u001b[1;33m)\u001b[0m\u001b[1;33m\u001b[0m\u001b[1;33m\u001b[0m\u001b[0m\n\u001b[0;32m     16\u001b[0m \u001b[0mresponse_dict\u001b[0m \u001b[1;33m=\u001b[0m \u001b[0mresponse\u001b[0m\u001b[1;33m.\u001b[0m\u001b[0mjson\u001b[0m\u001b[1;33m(\u001b[0m\u001b[1;33m)\u001b[0m\u001b[1;33m\u001b[0m\u001b[1;33m\u001b[0m\u001b[0m\n\u001b[1;32m---> 17\u001b[1;33m \u001b[0m_\u001b[0m\u001b[1;33m,\u001b[0m \u001b[0mheader\u001b[0m \u001b[1;33m=\u001b[0m \u001b[0mresponse\u001b[0m\u001b[1;33m.\u001b[0m\u001b[0mjson\u001b[0m\u001b[1;33m(\u001b[0m\u001b[1;33m)\u001b[0m\u001b[1;33m\u001b[0m\u001b[1;33m\u001b[0m\u001b[0m\n\u001b[0m\u001b[0;32m     18\u001b[0m \u001b[1;33m\u001b[0m\u001b[0m\n\u001b[0;32m     19\u001b[0m \u001b[1;31m#Convert to pandas dataframe\u001b[0m\u001b[1;33m\u001b[0m\u001b[1;33m\u001b[0m\u001b[1;33m\u001b[0m\u001b[0m\n",
      "\u001b[1;31mValueError\u001b[0m: not enough values to unpack (expected 2, got 1)"
     ]
    }
   ],
   "source": [
    "\n",
    "#another way for usage, dataframe still does not work properly\n",
    "import os\n",
    "import requests\n",
    "import pandas as pd \n",
    "\n",
    "api_key = os.getenv('44FGVFMW4NN49WAFs')\n",
    "\n",
    "base_url = 'https://www.alphavantage.co/query?'\n",
    "params = {'function': 'FX_INTRADAY',\n",
    "  'from_symbol': 'EUR',\n",
    "  'to_symbol': 'USD', \n",
    "  'interval': '15min',\n",
    "  'apikey': api_key}\n",
    "\n",
    "response = requests.get(base_url, params=params)\n",
    "response_dict = response.json()\n",
    "_, header = response.json()\n",
    "\n",
    "#Convert to pandas dataframe\n",
    "df = pd.DataFrame.from_dict(response_dict[header], orient='index')\n",
    "\n",
    "#Clean up column names\n",
    "df_cols = [i.split(' ')[1] for i in df.columns]\n",
    "df.columns = df_cols\n",
    "\n",
    "df.set_index('timestamp', inplace=True) #Time-series index \n",
    "\n",
    "print(df)"
   ]
  },
  {
   "cell_type": "code",
   "execution_count": null,
   "metadata": {},
   "outputs": [],
   "source": []
  }
 ],
 "metadata": {
  "kernelspec": {
   "display_name": "Python 3",
   "language": "python",
   "name": "python3"
  },
  "language_info": {
   "codemirror_mode": {
    "name": "ipython",
    "version": 3
   },
   "file_extension": ".py",
   "mimetype": "text/x-python",
   "name": "python",
   "nbconvert_exporter": "python",
   "pygments_lexer": "ipython3",
   "version": "3.7.3"
  }
 },
 "nbformat": 4,
 "nbformat_minor": 4
}

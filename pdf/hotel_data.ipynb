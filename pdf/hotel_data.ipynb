{
 "cells": [
  {
   "cell_type": "code",
   "execution_count": 0,
   "metadata": {
    "colab": {
     "base_uri": "https://localhost:8080/",
     "height": 71
    },
    "colab_type": "code",
    "id": "2xF38cuR3u4L",
    "outputId": "4ec263cb-6877-4db7-be35-362b1340eaaf"
   },
   "outputs": [
    {
     "name": "stdout",
     "output_type": "stream",
     "text": [
      "openjdk version \"11.0.7\" 2020-04-14\n",
      "OpenJDK Runtime Environment (build 11.0.7+10-post-Ubuntu-2ubuntu218.04)\n",
      "OpenJDK 64-Bit Server VM (build 11.0.7+10-post-Ubuntu-2ubuntu218.04, mixed mode, sharing)\n"
     ]
    }
   ],
   "source": [
    "#set up\n",
    "!java -version"
   ]
  },
  {
   "cell_type": "code",
   "execution_count": 0,
   "metadata": {
    "colab": {
     "base_uri": "https://localhost:8080/",
     "height": 35
    },
    "colab_type": "code",
    "id": "yhCTyNf-4Ced",
    "outputId": "f4709774-4f70-4f80-dce9-3c08364542a1"
   },
   "outputs": [
    {
     "name": "stdout",
     "output_type": "stream",
     "text": [
      "\u001b[K     |████████████████████████████████| 10.4MB 4.7MB/s \n",
      "\u001b[?25h"
     ]
    }
   ],
   "source": [
    "# To be more precisely, it's better to use `{sys.executable} -m pip install tabula-py`\n",
    "!pip install -q tabula-py"
   ]
  },
  {
   "cell_type": "code",
   "execution_count": 2,
   "metadata": {
    "colab": {
     "base_uri": "https://localhost:8080/",
     "height": 53
    },
    "colab_type": "code",
    "id": "-AznFmv15-vG",
    "outputId": "b481a8de-b40c-4733-aae2-17e5ca80bb49"
   },
   "outputs": [],
   "source": [
    "# second method\n",
    "!pip install -q PyPDF2 "
   ]
  },
  {
   "cell_type": "markdown",
   "metadata": {
    "colab_type": "text",
    "id": "XlknZQEV3za_"
   },
   "source": [
    "# To be more precisely, it's better to use `{sys.executable} -m pip install tabula-py`\n",
    "!pip install -q tabula-py\n",
    "\n",
    "*   List item\n",
    "*   List item\n",
    "\n"
   ]
  },
  {
   "cell_type": "code",
   "execution_count": 0,
   "metadata": {
    "colab": {
     "base_uri": "https://localhost:8080/",
     "height": 390
    },
    "colab_type": "code",
    "id": "iI5jPx0cySZX",
    "outputId": "4bfe5b5a-23b9-42b0-b35d-f578fbed4e41"
   },
   "outputs": [
    {
     "ename": "ModuleNotFoundError",
     "evalue": "ignored",
     "output_type": "error",
     "traceback": [
      "\u001b[0;31m---------------------------------------------------------------------------\u001b[0m",
      "\u001b[0;31mModuleNotFoundError\u001b[0m                       Traceback (most recent call last)",
      "\u001b[0;32m<ipython-input-1-9d7b535a91e5>\u001b[0m in \u001b[0;36m<module>\u001b[0;34m()\u001b[0m\n\u001b[1;32m      1\u001b[0m \u001b[0;31m# extract_doc_info.py\u001b[0m\u001b[0;34m\u001b[0m\u001b[0;34m\u001b[0m\u001b[0;34m\u001b[0m\u001b[0m\n\u001b[1;32m      2\u001b[0m \u001b[0;34m\u001b[0m\u001b[0m\n\u001b[0;32m----> 3\u001b[0;31m \u001b[0;32mfrom\u001b[0m \u001b[0mPyPDF2\u001b[0m \u001b[0;32mimport\u001b[0m \u001b[0mPdfFileReader\u001b[0m\u001b[0;34m\u001b[0m\u001b[0;34m\u001b[0m\u001b[0m\n\u001b[0m\u001b[1;32m      4\u001b[0m \u001b[0;34m\u001b[0m\u001b[0m\n\u001b[1;32m      5\u001b[0m \u001b[0;32mdef\u001b[0m \u001b[0mextract_information\u001b[0m\u001b[0;34m(\u001b[0m\u001b[0mpdf_path\u001b[0m\u001b[0;34m)\u001b[0m\u001b[0;34m:\u001b[0m\u001b[0;34m\u001b[0m\u001b[0;34m\u001b[0m\u001b[0m\n",
      "\u001b[0;31mModuleNotFoundError\u001b[0m: No module named 'PyPDF2'",
      "",
      "\u001b[0;31m---------------------------------------------------------------------------\u001b[0;32m\nNOTE: If your import is failing due to a missing package, you can\nmanually install dependencies using either !pip or !apt.\n\nTo view examples of installing some common dependencies, click the\n\"Open Examples\" button below.\n\u001b[0;31m---------------------------------------------------------------------------\u001b[0m\n"
     ]
    }
   ],
   "source": [
    "# extract_doc_info.py\n",
    "\n",
    "from PyPDF2 import PdfFileReader\n",
    "\n",
    "def extract_information(pdf_path):\n",
    "    with open(pdf_path, 'rb') as f:\n",
    "        pdf = PdfFileReader(f)\n",
    "        information = pdf.getDocumentInfo()\n",
    "        number_of_pages = pdf.getNumPages()\n",
    "\n",
    "    txt = f\"\"\"\n",
    "    Information about {pdf_path}: \n",
    "\n",
    "    Author: {information.author}\n",
    "    Creator: {information.creator}\n",
    "    Producer: {information.producer}\n",
    "    Subject: {information.subject}\n",
    "    Title: {information.title}\n",
    "    Number of pages: {number_of_pages}\n",
    "    \"\"\"\n",
    "\n",
    "    print(txt)\n",
    "    return information\n",
    "\n",
    "if __name__ == '__main__':\n",
    "    path = 'reportlab-sample.pdf'\n",
    "    extract_information(path)"
   ]
  },
  {
   "cell_type": "markdown",
   "metadata": {
    "colab_type": "text",
    "id": "Q01htr2Q4H04"
   },
   "source": [
    "Then "
   ]
  },
  {
   "cell_type": "code",
   "execution_count": 0,
   "metadata": {
    "colab": {
     "base_uri": "https://localhost:8080/",
     "height": 269
    },
    "colab_type": "code",
    "id": "Nm-cYChO4NHO",
    "outputId": "47dd7c9d-0173-48e7-f665-5a3bce221b35"
   },
   "outputs": [
    {
     "name": "stdout",
     "output_type": "stream",
     "text": [
      "Python version:\n",
      "    3.6.9 (default, Apr 18 2020, 01:56:04) \n",
      "[GCC 8.4.0]\n",
      "Java version:\n",
      "    openjdk version \"11.0.7\" 2020-04-14\n",
      "OpenJDK Runtime Environment (build 11.0.7+10-post-Ubuntu-2ubuntu218.04)\n",
      "OpenJDK 64-Bit Server VM (build 11.0.7+10-post-Ubuntu-2ubuntu218.04, mixed mode, sharing)\n",
      "tabula-py version: 2.1.0\n",
      "platform: Linux-4.19.104+-x86_64-with-Ubuntu-18.04-bionic\n",
      "uname:\n",
      "    uname_result(system='Linux', node='cead9df274be', release='4.19.104+', version='#1 SMP Wed Feb 19 05:26:34 PST 2020', machine='x86_64', processor='x86_64')\n",
      "linux_distribution: ('Ubuntu', '18.04', 'bionic')\n",
      "mac_ver: ('', ('', '', ''), '')\n",
      "    \n"
     ]
    }
   ],
   "source": [
    "import tabula\n",
    "\n",
    "tabula.environment_info()"
   ]
  },
  {
   "cell_type": "markdown",
   "metadata": {
    "colab_type": "text",
    "id": "rj4XZLMi4TWv"
   },
   "source": [
    "\n",
    "Read a PDF with read_pdf() function\n",
    "Let's read a PDF from GitHub. tabula-py can load a PDF or file like object on both local or internet by using read_pdf() function."
   ]
  },
  {
   "cell_type": "code",
   "execution_count": 0,
   "metadata": {
    "colab": {
     "base_uri": "https://localhost:8080/",
     "height": 470
    },
    "colab_type": "code",
    "id": "Mq3SjmUU4ZVD",
    "outputId": "1657b54b-a8cf-435d-c836-2ed5696ff0f6"
   },
   "outputs": [
    {
     "name": "stderr",
     "output_type": "stream",
     "text": [
      "'pages' argument isn't specified.Will extract only from page 1 by default.\n",
      "Error from tabula-java:\n",
      "Error: Error: End-of-File, expected line\n",
      "\n",
      "\n"
     ]
    },
    {
     "ename": "CalledProcessError",
     "evalue": "ignored",
     "output_type": "error",
     "traceback": [
      "\u001b[0;31m---------------------------------------------------------------------------\u001b[0m",
      "\u001b[0;31mCalledProcessError\u001b[0m                        Traceback (most recent call last)",
      "\u001b[0;32m<ipython-input-5-d92d8560a0c3>\u001b[0m in \u001b[0;36m<module>\u001b[0;34m()\u001b[0m\n\u001b[1;32m      2\u001b[0m \u001b[0mpdf_path\u001b[0m \u001b[0;34m=\u001b[0m \u001b[0;34m\"https://github.com/steinszzh/information-architecture-project/blob/master/pdf/hotel/MediaHR20200426_20200502.pdf\"\u001b[0m\u001b[0;34m\u001b[0m\u001b[0;34m\u001b[0m\u001b[0m\n\u001b[1;32m      3\u001b[0m \u001b[0;34m\u001b[0m\u001b[0m\n\u001b[0;32m----> 4\u001b[0;31m \u001b[0mtabula\u001b[0m\u001b[0;34m.\u001b[0m\u001b[0mread_pdf\u001b[0m\u001b[0;34m(\u001b[0m\u001b[0mpdf_path\u001b[0m\u001b[0;34m,\u001b[0m \u001b[0mstream\u001b[0m\u001b[0;34m=\u001b[0m\u001b[0;32mTrue\u001b[0m\u001b[0;34m)\u001b[0m\u001b[0;34m[\u001b[0m\u001b[0;36m0\u001b[0m\u001b[0;34m]\u001b[0m\u001b[0;34m\u001b[0m\u001b[0;34m\u001b[0m\u001b[0m\n\u001b[0m",
      "\u001b[0;32m/usr/local/lib/python3.6/dist-packages/tabula/io.py\u001b[0m in \u001b[0;36mread_pdf\u001b[0;34m(input_path, output_format, encoding, java_options, pandas_options, multiple_tables, user_agent, **kwargs)\u001b[0m\n\u001b[1;32m    320\u001b[0m \u001b[0;34m\u001b[0m\u001b[0m\n\u001b[1;32m    321\u001b[0m     \u001b[0;32mtry\u001b[0m\u001b[0;34m:\u001b[0m\u001b[0;34m\u001b[0m\u001b[0;34m\u001b[0m\u001b[0m\n\u001b[0;32m--> 322\u001b[0;31m         \u001b[0moutput\u001b[0m \u001b[0;34m=\u001b[0m \u001b[0m_run\u001b[0m\u001b[0;34m(\u001b[0m\u001b[0mjava_options\u001b[0m\u001b[0;34m,\u001b[0m \u001b[0mkwargs\u001b[0m\u001b[0;34m,\u001b[0m \u001b[0mpath\u001b[0m\u001b[0;34m,\u001b[0m \u001b[0mencoding\u001b[0m\u001b[0;34m)\u001b[0m\u001b[0;34m\u001b[0m\u001b[0;34m\u001b[0m\u001b[0m\n\u001b[0m\u001b[1;32m    323\u001b[0m     \u001b[0;32mfinally\u001b[0m\u001b[0;34m:\u001b[0m\u001b[0;34m\u001b[0m\u001b[0;34m\u001b[0m\u001b[0m\n\u001b[1;32m    324\u001b[0m         \u001b[0;32mif\u001b[0m \u001b[0mtemporary\u001b[0m\u001b[0;34m:\u001b[0m\u001b[0;34m\u001b[0m\u001b[0;34m\u001b[0m\u001b[0m\n",
      "\u001b[0;32m/usr/local/lib/python3.6/dist-packages/tabula/io.py\u001b[0m in \u001b[0;36m_run\u001b[0;34m(java_options, options, path, encoding)\u001b[0m\n\u001b[1;32m     83\u001b[0m             \u001b[0mstderr\u001b[0m\u001b[0;34m=\u001b[0m\u001b[0msubprocess\u001b[0m\u001b[0;34m.\u001b[0m\u001b[0mPIPE\u001b[0m\u001b[0;34m,\u001b[0m\u001b[0;34m\u001b[0m\u001b[0;34m\u001b[0m\u001b[0m\n\u001b[1;32m     84\u001b[0m             \u001b[0mstdin\u001b[0m\u001b[0;34m=\u001b[0m\u001b[0msubprocess\u001b[0m\u001b[0;34m.\u001b[0m\u001b[0mDEVNULL\u001b[0m\u001b[0;34m,\u001b[0m\u001b[0;34m\u001b[0m\u001b[0;34m\u001b[0m\u001b[0m\n\u001b[0;32m---> 85\u001b[0;31m             \u001b[0mcheck\u001b[0m\u001b[0;34m=\u001b[0m\u001b[0;32mTrue\u001b[0m\u001b[0;34m,\u001b[0m\u001b[0;34m\u001b[0m\u001b[0;34m\u001b[0m\u001b[0m\n\u001b[0m\u001b[1;32m     86\u001b[0m         )\n\u001b[1;32m     87\u001b[0m         \u001b[0;32mif\u001b[0m \u001b[0mresult\u001b[0m\u001b[0;34m.\u001b[0m\u001b[0mstderr\u001b[0m\u001b[0;34m:\u001b[0m\u001b[0;34m\u001b[0m\u001b[0;34m\u001b[0m\u001b[0m\n",
      "\u001b[0;32m/usr/lib/python3.6/subprocess.py\u001b[0m in \u001b[0;36mrun\u001b[0;34m(input, timeout, check, *popenargs, **kwargs)\u001b[0m\n\u001b[1;32m    436\u001b[0m         \u001b[0;32mif\u001b[0m \u001b[0mcheck\u001b[0m \u001b[0;32mand\u001b[0m \u001b[0mretcode\u001b[0m\u001b[0;34m:\u001b[0m\u001b[0;34m\u001b[0m\u001b[0;34m\u001b[0m\u001b[0m\n\u001b[1;32m    437\u001b[0m             raise CalledProcessError(retcode, process.args,\n\u001b[0;32m--> 438\u001b[0;31m                                      output=stdout, stderr=stderr)\n\u001b[0m\u001b[1;32m    439\u001b[0m     \u001b[0;32mreturn\u001b[0m \u001b[0mCompletedProcess\u001b[0m\u001b[0;34m(\u001b[0m\u001b[0mprocess\u001b[0m\u001b[0;34m.\u001b[0m\u001b[0margs\u001b[0m\u001b[0;34m,\u001b[0m \u001b[0mretcode\u001b[0m\u001b[0;34m,\u001b[0m \u001b[0mstdout\u001b[0m\u001b[0;34m,\u001b[0m \u001b[0mstderr\u001b[0m\u001b[0;34m)\u001b[0m\u001b[0;34m\u001b[0m\u001b[0;34m\u001b[0m\u001b[0m\n\u001b[1;32m    440\u001b[0m \u001b[0;34m\u001b[0m\u001b[0m\n",
      "\u001b[0;31mCalledProcessError\u001b[0m: Command '['java', '-Dfile.encoding=UTF8', '-jar', '/usr/local/lib/python3.6/dist-packages/tabula/tabula-1.0.3-jar-with-dependencies.jar', '--stream', '--guess', '--format', 'JSON', 'MediaHR20200426_20200502.pdf']' returned non-zero exit status 1."
     ]
    }
   ],
   "source": [
    "#read data\n",
    "pdf_path = \"https://github.com/steinszzh/information-architecture-project/blob/master/pdf/hotel/MediaHR20200426_20200502.pdf\"\n",
    "\n",
    "tabula.read_pdf(pdf_path, stream=True)[0]"
   ]
  },
  {
   "cell_type": "markdown",
   "metadata": {
    "colab_type": "text",
    "id": "XabdmllAybpn"
   },
   "source": [
    "Hotel data:\n",
    "\n",
    "http://www.hotelnewsnow.com/Articles/ByCategory?category=Weekly+Data"
   ]
  },
  {
   "cell_type": "code",
   "execution_count": 0,
   "metadata": {
    "colab": {},
    "colab_type": "code",
    "id": "L34B-6Hv0g6C"
   },
   "outputs": [],
   "source": [
    "\n",
    "from datetime import date #imports datetime library and date module to transform Start Date and Contain Date from string to \n",
    "                          #date\n",
    "fire_list = []\n",
    "for d, row in enumerate(_df.values): #loops through the dataframe\n",
    "    getMonth, getDay, getYear = .StartDate[d].split('/') #splits StartDate column to get month, day, and year\n",
    "    startmonth = getMonth #extracts and stores month information\n",
    "    startyear = getYear #extracts and stores year information\n",
    "    startdate = date(int(getYear), int(getMonth), int(getDay)) #extracts and stores the date information for future calculation\n",
    "    getMonth, getDay, getYear = fire_df.ControlDate[d].split('/') #splits ContainDate column to get month, day, and year\n",
    "    controldate = date(int(getYear), int(getMonth), int(getDay)) #extracts and stores the date information"
   ]
  },
  {
   "cell_type": "markdown",
   "metadata": {
    "colab_type": "text",
    "id": "MsmKLdDe1NUk"
   },
   "source": []
  },
  {
   "cell_type": "code",
   "execution_count": 0,
   "metadata": {
    "colab": {},
    "colab_type": "code",
    "id": "JyvTXgub1Nh1"
   },
   "outputs": [],
   "source": [
    "# https://www.statista.com/statistics/261808/monthly-change-of-the-average-working-week-of-all-us-employees-by-industry/"
   ]
  },
  {
   "cell_type": "markdown",
   "metadata": {
    "colab_type": "text",
    "id": "3VtMszoE1QAb"
   },
   "source": [
    "https://www.statista.com/statistics/261808/monthly-change-of-the-average-working-week-of-all-us-employees-by-industry/"
   ]
  },
  {
   "cell_type": "markdown",
   "metadata": {
    "colab_type": "text",
    "id": "Be2rn2D22frV"
   },
   "source": [
    "electricity data source: https://www.iea.org/reports/monthly-oecd-electricity-statistics\n"
   ]
  },
  {
   "cell_type": "markdown",
   "metadata": {
    "colab_type": "text",
    "id": "_Q3YixLJ2jeA"
   },
   "source": [
    "https://www.eia.gov/outlooks/steo/report/electricity.php"
   ]
  },
  {
   "cell_type": "markdown",
   "metadata": {
    "colab_type": "text",
    "id": "IQnM05fr52br"
   },
   "source": [
    "### Another method"
   ]
  },
  {
   "cell_type": "code",
   "execution_count": 4,
   "metadata": {
    "colab": {},
    "colab_type": "code",
    "id": "6pp3z6jy6n6F"
   },
   "outputs": [
    {
     "name": "stdout",
     "output_type": "stream",
     "text": [
      "1\n",
      "Weekly Hotel Report - Total United States - Week of April 26, 2020 - May 02, 2020\n",
      "26-Apr-20\n",
      "27-Apr-20\n",
      "28-Apr-20\n",
      "29-Apr-20\n",
      "30-Apr-20\n",
      "1-May-20\n",
      "2-May-20\n",
      "Total\n",
      "28-Apr-19\n",
      "29-Apr-19\n",
      "30-Apr-19\n",
      "1-May-19\n",
      "2-May-19\n",
      "3-May-19\n",
      "4-May-19\n",
      "Total\n",
      "Sun\n",
      "Mon\n",
      "Tue\n",
      "Wed\n",
      "Thu\n",
      "Fri\n",
      "Sat\n",
      "Week\n",
      "Sun\n",
      "Mon\n",
      "Tue\n",
      "Wed\n",
      "Thu\n",
      "Fri\n",
      "Sat\n",
      "Week\n",
      "Occupancy \n",
      "24.0%\n",
      "28.3%\n",
      "29.4%\n",
      "30.0%\n",
      "29.6%\n",
      "29.1%\n",
      "29.9%\n",
      "28.6%\n",
      "-54.5%\n",
      "-56.7%\n",
      "-58.1%\n",
      "-57.7%\n",
      "-56.7%\n",
      "-61.7%\n",
      "-62.3%\n",
      "-58.5%\n",
      "Average Daily Rate\n",
      "$72.56\n",
      "$73.71\n",
      "$74.49\n",
      "$74.29\n",
      "$73.97\n",
      "$76.14\n",
      "$77.20\n",
      "$74.72\n",
      "-40.4%\n",
      "-43.7%\n",
      "-45.0%\n",
      "-45.3%\n",
      "-44.2%\n",
      "-43.9%\n",
      "-44.1%\n",
      "-44.0%\n",
      "Revenue Per Available Room\n",
      "$17.44\n",
      "$20.83\n",
      "$21.90\n",
      "$22.30\n",
      "$21.91\n",
      "$22.16\n",
      "$23.05\n",
      "$21.39\n",
      "-72.9%\n",
      "-75.6%\n",
      "-77.0%\n",
      "-76.8%\n",
      "-75.9%\n",
      "-78.5%\n",
      "-78.9%\n",
      "-76.8%\n",
      "Source: STR\n",
      "Please do not publish or distribute this report. You may cite specific data points when properly sourcing STR.\n",
      "For additional information about specific markets or STR Chain Scales, please contact STR at +1 (615) 824 8664, or e-mail media@str.com.\n",
      "Date Created: May 05, 2020\n",
      "Percent Change from Previous Year\n",
      "Actual Apr 26, 2020 - May 02, 2020\n",
      "-\n",
      "54.5%\n",
      "-\n",
      "56.7%\n",
      "-\n",
      "58.1%\n",
      "-\n",
      "57.7%\n",
      "-\n",
      "56.7%\n",
      "-\n",
      "61.7%\n",
      "-\n",
      "62.3%\n",
      "-\n",
      "58.5%\n",
      "-70%\n",
      "-60%\n",
      "-50%\n",
      "-40%\n",
      "-30%\n",
      "-20%\n",
      "-10%\n",
      "0%\n",
      "Sun\n",
      "Mon\n",
      "Tue\n",
      "Wed\n",
      "Thu\n",
      "Fri\n",
      "Sat\n",
      "Week\n",
      "Occupancy Variance (%)\n",
      "This Year vs Last Year\n",
      "-\n",
      "40.4%\n",
      "-\n",
      "43.7%\n",
      "-\n",
      "45.0%\n",
      "-\n",
      "45.3%\n",
      "-\n",
      "44.2%\n",
      "-\n",
      "43.9%\n",
      "-\n",
      "44.1%\n",
      "-\n",
      "44.0%\n",
      "-50%\n",
      "-40%\n",
      "-30%\n",
      "-20%\n",
      "-10%\n",
      "0%\n",
      "Sun\n",
      "Mon\n",
      "Tue\n",
      "Wed\n",
      "Thu\n",
      "Fri\n",
      "Sat\n",
      "Week\n",
      "ADR Variance (%)\n",
      "This Year vs Last Year\n",
      "-\n",
      "72.9%\n",
      "-\n",
      "75.6%\n",
      "-\n",
      "77.0%\n",
      "-\n",
      "76.8%\n",
      "-\n",
      "75.9%\n",
      "-\n",
      "78.5%\n",
      "-\n",
      "78.9%\n",
      "-\n",
      "76.8%\n",
      "-90%\n",
      "-80%\n",
      "-70%\n",
      "-60%\n",
      "-50%\n",
      "-40%\n",
      "-30%\n",
      "-20%\n",
      "-10%\n",
      "0%\n",
      "Sun\n",
      "Mon\n",
      "Tue\n",
      "Wed\n",
      "Thu\n",
      "Fri\n",
      "Sat\n",
      "Week\n",
      "RevPAR Variance (%)\n",
      "This Year vs Last Year\n",
      "\n"
     ]
    }
   ],
   "source": [
    "\n",
    "# importing required modules \n",
    "import PyPDF2 \n",
    "  \n",
    "# creating a pdf file object \n",
    "pdfFileObj = open('MediaHR20200426_20200502.pdf', 'rb') \n",
    "  \n",
    "# creating a pdf reader object \n",
    "pdfReader = PyPDF2.PdfFileReader(pdfFileObj) \n",
    "  \n",
    "# printing number of pages in pdf file \n",
    "print(pdfReader.numPages) \n",
    "  \n",
    "# creating a page object \n",
    "pageObj = pdfReader.getPage(0) \n",
    "  \n",
    "# extracting text from page \n",
    "print(pageObj.extractText()) \n",
    "  \n",
    "# closing the pdf file object \n",
    "pdfFileObj.close() "
   ]
  },
  {
   "cell_type": "code",
   "execution_count": 9,
   "metadata": {},
   "outputs": [
    {
     "ename": "ImportError",
     "evalue": "cannot import name 'read_pdf_table' from 'tabula' (C:\\Users\\zz\\Anaconda3\\lib\\site-packages\\tabula\\__init__.py)",
     "output_type": "error",
     "traceback": [
      "\u001b[1;31m---------------------------------------------------------------------------\u001b[0m",
      "\u001b[1;31mImportError\u001b[0m                               Traceback (most recent call last)",
      "\u001b[1;32m<ipython-input-9-6668420047b5>\u001b[0m in \u001b[0;36m<module>\u001b[1;34m\u001b[0m\n\u001b[0;32m      1\u001b[0m \u001b[1;32mimport\u001b[0m \u001b[0mpandas\u001b[0m \u001b[1;32mas\u001b[0m \u001b[0mpd\u001b[0m\u001b[1;33m\u001b[0m\u001b[1;33m\u001b[0m\u001b[0m\n\u001b[0;32m      2\u001b[0m \u001b[1;32mimport\u001b[0m \u001b[0mnumpy\u001b[0m \u001b[1;32mas\u001b[0m \u001b[0mnp\u001b[0m\u001b[1;33m\u001b[0m\u001b[1;33m\u001b[0m\u001b[0m\n\u001b[1;32m----> 3\u001b[1;33m \u001b[1;32mfrom\u001b[0m \u001b[0mtabula\u001b[0m \u001b[1;32mimport\u001b[0m \u001b[0mread_pdf_table\u001b[0m\u001b[1;33m\u001b[0m\u001b[1;33m\u001b[0m\u001b[0m\n\u001b[0m\u001b[0;32m      4\u001b[0m \u001b[1;32mimport\u001b[0m \u001b[0mPyPDF2\u001b[0m\u001b[1;33m\u001b[0m\u001b[1;33m\u001b[0m\u001b[0m\n\u001b[0;32m      5\u001b[0m \u001b[1;33m\u001b[0m\u001b[0m\n",
      "\u001b[1;31mImportError\u001b[0m: cannot import name 'read_pdf_table' from 'tabula' (C:\\Users\\zz\\Anaconda3\\lib\\site-packages\\tabula\\__init__.py)"
     ]
    }
   ],
   "source": [
    "import pandas as pd\n",
    "import numpy as np\n",
    "from tabula import read_pdf_table\n",
    "import PyPDF2\n",
    "\n",
    "reader = PyPDF2.PdfFileReader(open('MediaHR20200426_20200502.pdf', mode='rb'))\n",
    "m = reader.getNumPages()\n",
    "#print(reader)\n",
    "print(m)\n",
    "for i in range(m):\n",
    "    n = i+1\n",
    "\n",
    "    if n==1:\n",
    "        df = read_pdf_table('MediaHR20200426_20200502.pdf', pandas_options={'header': None, 'error_bad_lines': False}, pages=n)\n",
    "        index = np.where(df[0].isnull())[0]\n",
    "        sect = df.iloc[index[0]:index[-1]]\n",
    "        s = []\n",
    "        headers = []\n",
    "        for col in sect:\n",
    "            colnames = sect[col].dropna().values.flatten()\n",
    "            (s.insert(len(s), colnames))\n",
    "            pic = [' '.join(s[col])]\n",
    "            for i in pic:\n",
    "                headers.append(i)\n",
    "        print(df)\n",
    "        df.drop(sect, inplace=True)\n",
    "        df.columns = headers\n",
    "        new_df = pd.DataFrame(columns=headers)\n",
    "        new_df = pd.concat([new_df, df], axis=0, ignore_index=True)\n",
    "\n",
    "    else:\n",
    "        df_2 = read_pdf_table('MediaHR20200426_20200502.pdf', pandas_options={'header': None, 'error_bad_lines': False, 'encoding': \"ISO-8859-1\"}, pages=n)\n",
    "        df_2.drop(sect, inplace=True)\n",
    "        df_2.columns = headers\n",
    "        new_df = pd.concat([new_df, df_2], axis=0, ignore_index=True)\n",
    "\n",
    "new_df.columns = headers\n",
    "print(new_df)\n",
    "new_df.to_csv('MediaHR20200426_20200502.pdf', index=False)"
   ]
  },
  {
   "cell_type": "code",
   "execution_count": 0,
   "metadata": {
    "colab": {
     "base_uri": "https://localhost:8080/",
     "height": 246
    },
    "colab_type": "code",
    "id": "9HGA7JRi55HZ",
    "outputId": "b830a697-5c86-4b3c-88ce-bb363f6c85cd"
   },
   "outputs": [
    {
     "ename": "FileNotFoundError",
     "evalue": "ignored",
     "output_type": "error",
     "traceback": [
      "\u001b[0;31m---------------------------------------------------------------------------\u001b[0m",
      "\u001b[0;31mFileNotFoundError\u001b[0m                         Traceback (most recent call last)",
      "\u001b[0;32m<ipython-input-11-1a75840c212d>\u001b[0m in \u001b[0;36m<module>\u001b[0;34m()\u001b[0m\n\u001b[1;32m      4\u001b[0m \u001b[0;34m\u001b[0m\u001b[0m\n\u001b[1;32m      5\u001b[0m \u001b[0;31m# creating a pdf file object\u001b[0m\u001b[0;34m\u001b[0m\u001b[0;34m\u001b[0m\u001b[0;34m\u001b[0m\u001b[0m\n\u001b[0;32m----> 6\u001b[0;31m \u001b[0mpdfFileObj\u001b[0m \u001b[0;34m=\u001b[0m \u001b[0mopen\u001b[0m\u001b[0;34m(\u001b[0m\u001b[0;34m'example.pdf'\u001b[0m\u001b[0;34m,\u001b[0m \u001b[0;34m'rb'\u001b[0m\u001b[0;34m)\u001b[0m\u001b[0;34m\u001b[0m\u001b[0;34m\u001b[0m\u001b[0m\n\u001b[0m\u001b[1;32m      7\u001b[0m \u001b[0;34m\u001b[0m\u001b[0m\n\u001b[1;32m      8\u001b[0m \u001b[0;31m# creating a pdf reader object\u001b[0m\u001b[0;34m\u001b[0m\u001b[0;34m\u001b[0m\u001b[0;34m\u001b[0m\u001b[0m\n",
      "\u001b[0;31mFileNotFoundError\u001b[0m: [Errno 2] No such file or directory: 'example.pdf'"
     ]
    }
   ],
   "source": [
    "\n",
    "# importing required modules \n",
    "import PyPDF2 \n",
    "  \n",
    "# creating a pdf file object \n",
    "pdfFileObj = open('example.pdf', 'rb') \n",
    "  \n",
    "# creating a pdf reader object \n",
    "pdfReader = PyPDF2.PdfFileReader(pdfFileObj) \n",
    "  \n",
    "# printing number of pages in pdf file \n",
    "print(pdfReader.numPages) \n",
    "  \n",
    "# creating a page object \n",
    "pageObj = pdfReader.getPage(0) \n",
    "  \n",
    "# extracting text from page \n",
    "print(pageObj.extractText()) \n",
    "  \n",
    "# closing the pdf file object \n",
    "pdfFileObj.close() "
   ]
  }
 ],
 "metadata": {
  "colab": {
   "collapsed_sections": [],
   "name": "hotel data.ipynb",
   "provenance": [],
   "toc_visible": true
  },
  "kernelspec": {
   "display_name": "Python 3",
   "language": "python",
   "name": "python3"
  },
  "language_info": {
   "codemirror_mode": {
    "name": "ipython",
    "version": 3
   },
   "file_extension": ".py",
   "mimetype": "text/x-python",
   "name": "python",
   "nbconvert_exporter": "python",
   "pygments_lexer": "ipython3",
   "version": "3.7.3"
  }
 },
 "nbformat": 4,
 "nbformat_minor": 1
}

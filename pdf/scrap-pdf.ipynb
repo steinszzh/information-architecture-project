{
 "cells": [
  {
   "cell_type": "code",
   "execution_count": 9,
   "metadata": {},
   "outputs": [],
   "source": [
    "import camelot"
   ]
  },
  {
   "cell_type": "code",
   "execution_count": 12,
   "metadata": {},
   "outputs": [
    {
     "data": {
      "text/plain": [
       "<TableList n=4>"
      ]
     },
     "execution_count": 12,
     "metadata": {},
     "output_type": "execute_result"
    }
   ],
   "source": [
    "tables = camelot.read_pdf('MediaHR20200426_20200502.pdf')\n",
    "tables"
   ]
  },
  {
   "cell_type": "code",
   "execution_count": 13,
   "metadata": {},
   "outputs": [
    {
     "data": {
      "text/plain": [
       "<Table shape=(6, 17)>"
      ]
     },
     "execution_count": 13,
     "metadata": {},
     "output_type": "execute_result"
    }
   ],
   "source": [
    "tables[0]"
   ]
  },
  {
   "cell_type": "code",
   "execution_count": 15,
   "metadata": {},
   "outputs": [
    {
     "name": "stdout",
     "output_type": "stream",
     "text": [
      "{'accuracy': 98.41, 'whitespace': 16.67, 'order': 1, 'page': 1}\n"
     ]
    }
   ],
   "source": [
    "print(tables[0].parsing_report)"
   ]
  },
  {
   "cell_type": "code",
   "execution_count": 16,
   "metadata": {
    "scrolled": true
   },
   "outputs": [
    {
     "data": {
      "text/html": [
       "<div>\n",
       "<style scoped>\n",
       "    .dataframe tbody tr th:only-of-type {\n",
       "        vertical-align: middle;\n",
       "    }\n",
       "\n",
       "    .dataframe tbody tr th {\n",
       "        vertical-align: top;\n",
       "    }\n",
       "\n",
       "    .dataframe thead th {\n",
       "        text-align: right;\n",
       "    }\n",
       "</style>\n",
       "<table border=\"1\" class=\"dataframe\">\n",
       "  <thead>\n",
       "    <tr style=\"text-align: right;\">\n",
       "      <th></th>\n",
       "      <th>0</th>\n",
       "      <th>1</th>\n",
       "      <th>2</th>\n",
       "      <th>3</th>\n",
       "      <th>4</th>\n",
       "      <th>5</th>\n",
       "      <th>6</th>\n",
       "      <th>7</th>\n",
       "      <th>8</th>\n",
       "      <th>9</th>\n",
       "      <th>10</th>\n",
       "      <th>11</th>\n",
       "      <th>12</th>\n",
       "      <th>13</th>\n",
       "      <th>14</th>\n",
       "      <th>15</th>\n",
       "      <th>16</th>\n",
       "    </tr>\n",
       "  </thead>\n",
       "  <tbody>\n",
       "    <tr>\n",
       "      <td>0</td>\n",
       "      <td></td>\n",
       "      <td>Actual Apr 26, 2020 - May 02, 2020</td>\n",
       "      <td></td>\n",
       "      <td></td>\n",
       "      <td></td>\n",
       "      <td></td>\n",
       "      <td></td>\n",
       "      <td></td>\n",
       "      <td></td>\n",
       "      <td>Percent Change from Previous Year</td>\n",
       "      <td></td>\n",
       "      <td></td>\n",
       "      <td></td>\n",
       "      <td></td>\n",
       "      <td></td>\n",
       "      <td></td>\n",
       "      <td></td>\n",
       "    </tr>\n",
       "    <tr>\n",
       "      <td>1</td>\n",
       "      <td></td>\n",
       "      <td>26-Apr-20</td>\n",
       "      <td>27-Apr-20</td>\n",
       "      <td>28-Apr-20</td>\n",
       "      <td>29-Apr-20</td>\n",
       "      <td>30-Apr-20</td>\n",
       "      <td>1-May-20</td>\n",
       "      <td>2-May-20</td>\n",
       "      <td>Total</td>\n",
       "      <td>28-Apr-19</td>\n",
       "      <td>29-Apr-19</td>\n",
       "      <td>30-Apr-19</td>\n",
       "      <td>1-May-19</td>\n",
       "      <td>2-May-19</td>\n",
       "      <td>3-May-19</td>\n",
       "      <td>4-May-19</td>\n",
       "      <td>Total</td>\n",
       "    </tr>\n",
       "    <tr>\n",
       "      <td>2</td>\n",
       "      <td></td>\n",
       "      <td>Sun</td>\n",
       "      <td>Mon</td>\n",
       "      <td>Tue</td>\n",
       "      <td>Wed</td>\n",
       "      <td>Thu</td>\n",
       "      <td>Fri</td>\n",
       "      <td>Sat</td>\n",
       "      <td>Week</td>\n",
       "      <td>Sun</td>\n",
       "      <td>Mon</td>\n",
       "      <td>Tue</td>\n",
       "      <td>Wed</td>\n",
       "      <td>Thu</td>\n",
       "      <td>Fri</td>\n",
       "      <td>Sat</td>\n",
       "      <td>Week</td>\n",
       "    </tr>\n",
       "    <tr>\n",
       "      <td>3</td>\n",
       "      <td>Occupancy</td>\n",
       "      <td>24.0%</td>\n",
       "      <td>28.3%</td>\n",
       "      <td>29.4%</td>\n",
       "      <td>30.0%</td>\n",
       "      <td>29.6%</td>\n",
       "      <td>29.1%</td>\n",
       "      <td>29.9%</td>\n",
       "      <td>28.6%</td>\n",
       "      <td>-54.5%</td>\n",
       "      <td>-56.7%</td>\n",
       "      <td>-58.1%</td>\n",
       "      <td>-57.7%</td>\n",
       "      <td>-56.7%</td>\n",
       "      <td>-61.7%</td>\n",
       "      <td>-62.3%</td>\n",
       "      <td>-58.5%</td>\n",
       "    </tr>\n",
       "    <tr>\n",
       "      <td>4</td>\n",
       "      <td>Average Daily Rate</td>\n",
       "      <td>$72.56</td>\n",
       "      <td>$73.71</td>\n",
       "      <td>$74.49</td>\n",
       "      <td>$74.29</td>\n",
       "      <td>$73.97</td>\n",
       "      <td>$76.14</td>\n",
       "      <td>$77.20</td>\n",
       "      <td>$74.72</td>\n",
       "      <td>-40.4%</td>\n",
       "      <td>-43.7%</td>\n",
       "      <td>-45.0%</td>\n",
       "      <td>-45.3%</td>\n",
       "      <td>-44.2%</td>\n",
       "      <td>-43.9%</td>\n",
       "      <td>-44.1%</td>\n",
       "      <td>-44.0%</td>\n",
       "    </tr>\n",
       "    <tr>\n",
       "      <td>5</td>\n",
       "      <td>Revenue Per Available Room</td>\n",
       "      <td>$17.44</td>\n",
       "      <td>$20.83</td>\n",
       "      <td>$21.90</td>\n",
       "      <td>$22.30</td>\n",
       "      <td>$21.91</td>\n",
       "      <td>$22.16</td>\n",
       "      <td>$23.05</td>\n",
       "      <td>$21.39</td>\n",
       "      <td>-72.9%</td>\n",
       "      <td>-75.6%</td>\n",
       "      <td>-77.0%</td>\n",
       "      <td>-76.8%</td>\n",
       "      <td>-75.9%</td>\n",
       "      <td>-78.5%</td>\n",
       "      <td>-78.9%</td>\n",
       "      <td>-76.8%</td>\n",
       "    </tr>\n",
       "  </tbody>\n",
       "</table>\n",
       "</div>"
      ],
      "text/plain": [
       "                            0                                   1          2  \\\n",
       "0                              Actual Apr 26, 2020 - May 02, 2020              \n",
       "1                                                       26-Apr-20  27-Apr-20   \n",
       "2                                                             Sun        Mon   \n",
       "3                   Occupancy                               24.0%      28.3%   \n",
       "4          Average Daily Rate                              $72.56     $73.71   \n",
       "5  Revenue Per Available Room                              $17.44     $20.83   \n",
       "\n",
       "           3          4          5         6         7       8  \\\n",
       "0                                                                \n",
       "1  28-Apr-20  29-Apr-20  30-Apr-20  1-May-20  2-May-20   Total   \n",
       "2        Tue        Wed        Thu       Fri       Sat    Week   \n",
       "3      29.4%      30.0%      29.6%     29.1%     29.9%   28.6%   \n",
       "4     $74.49     $74.29     $73.97    $76.14    $77.20  $74.72   \n",
       "5     $21.90     $22.30     $21.91    $22.16    $23.05  $21.39   \n",
       "\n",
       "                                   9         10         11        12  \\\n",
       "0  Percent Change from Previous Year                                   \n",
       "1                          28-Apr-19  29-Apr-19  30-Apr-19  1-May-19   \n",
       "2                                Sun        Mon        Tue       Wed   \n",
       "3                             -54.5%     -56.7%     -58.1%    -57.7%   \n",
       "4                             -40.4%     -43.7%     -45.0%    -45.3%   \n",
       "5                             -72.9%     -75.6%     -77.0%    -76.8%   \n",
       "\n",
       "         13        14        15      16  \n",
       "0                                        \n",
       "1  2-May-19  3-May-19  4-May-19   Total  \n",
       "2       Thu       Fri       Sat    Week  \n",
       "3    -56.7%    -61.7%    -62.3%  -58.5%  \n",
       "4    -44.2%    -43.9%    -44.1%  -44.0%  \n",
       "5    -75.9%    -78.5%    -78.9%  -76.8%  "
      ]
     },
     "execution_count": 16,
     "metadata": {},
     "output_type": "execute_result"
    }
   ],
   "source": [
    "tables[0].df"
   ]
  },
  {
   "cell_type": "code",
   "execution_count": 17,
   "metadata": {},
   "outputs": [],
   "source": [
    "tables[0].to_csv('test.csv')"
   ]
  },
  {
   "cell_type": "code",
   "execution_count": null,
   "metadata": {},
   "outputs": [],
   "source": []
  },
  {
   "cell_type": "code",
   "execution_count": null,
   "metadata": {},
   "outputs": [],
   "source": []
  },
  {
   "cell_type": "code",
   "execution_count": null,
   "metadata": {},
   "outputs": [],
   "source": []
  },
  {
   "cell_type": "code",
   "execution_count": null,
   "metadata": {},
   "outputs": [],
   "source": []
  },
  {
   "cell_type": "code",
   "execution_count": null,
   "metadata": {},
   "outputs": [],
   "source": []
  },
  {
   "cell_type": "code",
   "execution_count": null,
   "metadata": {},
   "outputs": [],
   "source": []
  },
  {
   "cell_type": "code",
   "execution_count": null,
   "metadata": {},
   "outputs": [],
   "source": []
  },
  {
   "cell_type": "code",
   "execution_count": null,
   "metadata": {},
   "outputs": [],
   "source": [
    "path1 = r'C:\\Maridor\\MS DAV\\DAV 5400 - Analytics Programming\\Final Project\\fire\\text files'+ '\\\\'\n",
    "i = 0\n",
    "file = ''\n",
    "combinedfile = pd.DataFrame() #creates an empty dataframe to store the combined csv files\n",
    "for f in os.listdir(path1): #loops through the directory to find the CSV file\n",
    "    file = file + str(i)\n",
    "    file = pd.read_csv(path1 + f) #reads each csv file\n",
    "    combinedfile = pd.concat([file,combinedfile]) #merges the previous read file into one file\n",
    "combinedfile.to_csv(r'C:\\Maridor\\MS DAV\\DAV 5400 - Analytics Programming\\Final Project\\fire\\text files\\combinedfire.csv') #saves the file as CSV into the local machine"
   ]
  }
 ],
 "metadata": {
  "kernelspec": {
   "display_name": "Python 3",
   "language": "python",
   "name": "python3"
  },
  "language_info": {
   "codemirror_mode": {
    "name": "ipython",
    "version": 3
   },
   "file_extension": ".py",
   "mimetype": "text/x-python",
   "name": "python",
   "nbconvert_exporter": "python",
   "pygments_lexer": "ipython3",
   "version": "3.7.4"
  }
 },
 "nbformat": 4,
 "nbformat_minor": 2
}
